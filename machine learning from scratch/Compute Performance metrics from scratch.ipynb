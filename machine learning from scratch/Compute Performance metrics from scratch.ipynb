{
 "cells": [
  {
   "cell_type": "markdown",
   "metadata": {
    "id": "s0Ej_bXyQvnV"
   },
   "source": [
    "# Compute performance metrics for the given Y and Y_score without sklearn"
   ]
  },
  {
   "cell_type": "code",
   "execution_count": 2,
   "metadata": {
    "id": "4CHb6NE7Qvnc"
   },
   "outputs": [],
   "source": [
    "import numpy as np\n",
    "import pandas as pd\n",
    "# other than these two you should not import any other packages"
   ]
  },
  {
   "cell_type": "code",
   "execution_count": 4,
   "metadata": {
    "colab": {
     "base_uri": "https://localhost:8080/",
     "height": 203
    },
    "id": "WaFLW7oBQvnt",
    "outputId": "1810f504-e063-44d3-f2c9-50ee18f4cde4"
   },
   "outputs": [
    {
     "data": {
      "text/html": [
       "<div>\n",
       "<style scoped>\n",
       "    .dataframe tbody tr th:only-of-type {\n",
       "        vertical-align: middle;\n",
       "    }\n",
       "\n",
       "    .dataframe tbody tr th {\n",
       "        vertical-align: top;\n",
       "    }\n",
       "\n",
       "    .dataframe thead th {\n",
       "        text-align: right;\n",
       "    }\n",
       "</style>\n",
       "<table border=\"1\" class=\"dataframe\">\n",
       "  <thead>\n",
       "    <tr style=\"text-align: right;\">\n",
       "      <th></th>\n",
       "      <th>y</th>\n",
       "      <th>proba</th>\n",
       "    </tr>\n",
       "  </thead>\n",
       "  <tbody>\n",
       "    <tr>\n",
       "      <th>0</th>\n",
       "      <td>1.0</td>\n",
       "      <td>0.637387</td>\n",
       "    </tr>\n",
       "    <tr>\n",
       "      <th>1</th>\n",
       "      <td>1.0</td>\n",
       "      <td>0.635165</td>\n",
       "    </tr>\n",
       "    <tr>\n",
       "      <th>2</th>\n",
       "      <td>1.0</td>\n",
       "      <td>0.766586</td>\n",
       "    </tr>\n",
       "    <tr>\n",
       "      <th>3</th>\n",
       "      <td>1.0</td>\n",
       "      <td>0.724564</td>\n",
       "    </tr>\n",
       "    <tr>\n",
       "      <th>4</th>\n",
       "      <td>1.0</td>\n",
       "      <td>0.889199</td>\n",
       "    </tr>\n",
       "  </tbody>\n",
       "</table>\n",
       "</div>"
      ],
      "text/plain": [
       "     y     proba\n",
       "0  1.0  0.637387\n",
       "1  1.0  0.635165\n",
       "2  1.0  0.766586\n",
       "3  1.0  0.724564\n",
       "4  1.0  0.889199"
      ]
     },
     "execution_count": 4,
     "metadata": {},
     "output_type": "execute_result"
    }
   ],
   "source": [
    "#load the data\n",
    "\n",
    "#in this data you can see number of positive points >> number of negatives points\n",
    "df_a=pd.read_csv('/content/drive/MyDrive/5_Performance_metrics/5_a.csv')\n",
    "df_a.head()"
   ]
  },
  {
   "cell_type": "code",
   "execution_count": 5,
   "metadata": {
    "colab": {
     "base_uri": "https://localhost:8080/"
    },
    "id": "XGGDi3XippWG",
    "outputId": "5af30266-4071-4ed4-9662-90fd261e89b6"
   },
   "outputs": [
    {
     "name": "stdout",
     "output_type": "stream",
     "text": [
      "shape : (10100, 2)\n",
      "\n",
      "null values \n",
      " y        0\n",
      "proba    0\n",
      "dtype: int64\n",
      "\n",
      "values count :\n",
      " 1.0    10000\n",
      "0.0      100\n",
      "Name: y, dtype: int64\n"
     ]
    }
   ],
   "source": [
    "print('shape :',df_a.shape)\n",
    "print()\n",
    "print(\"null values \\n\",df_a.isnull().sum())\n",
    "print()\n",
    "print('values count :\\n',df_a['y'].value_counts())"
   ]
  },
  {
   "cell_type": "code",
   "execution_count": 6,
   "metadata": {
    "id": "UVrkuy8vsTYy"
   },
   "outputs": [],
   "source": [
    "#adding y_predict\n",
    "df_a['y_predict']=list(map(lambda x : 0 if x<0.5 else 1,df_a['proba'].values))"
   ]
  },
  {
   "cell_type": "code",
   "execution_count": 7,
   "metadata": {
    "colab": {
     "base_uri": "https://localhost:8080/"
    },
    "id": "ih5bf6TrtWoh",
    "outputId": "9e797484-d8b5-4aa3-ef1f-1ffd6274578c"
   },
   "outputs": [
    {
     "data": {
      "text/plain": [
       "(10100, 3)"
      ]
     },
     "execution_count": 7,
     "metadata": {},
     "output_type": "execute_result"
    }
   ],
   "source": [
    "df_a.shape"
   ]
  },
  {
   "cell_type": "code",
   "execution_count": 8,
   "metadata": {
    "id": "yg8uUJvGAfCM"
   },
   "outputs": [],
   "source": [
    "# write your code here for task A\n",
    "# 1)Compute Confusion Matrix\n",
    "def confuse_matrix(y_original,y_predicted): #y_original and y_predicted are arrays\n",
    "  tp=fp=tn=fn=0\n",
    "  for i,j in zip(y_original,y_predicted): #calculate tp,fp,fn,tn\n",
    "    if i==0:\n",
    "      if j==0:\n",
    "        tn+=1\n",
    "      else:\n",
    "        fp+=1\n",
    "    else:\n",
    "      if j==0:\n",
    "        fn+=1\n",
    "      else:\n",
    "        tp+=1\n",
    "  return tn,fn,fp,tp"
   ]
  },
  {
   "cell_type": "code",
   "execution_count": 9,
   "metadata": {
    "colab": {
     "base_uri": "https://localhost:8080/",
     "height": 110
    },
    "id": "J8h3IQiFunpW",
    "outputId": "fbad7cdd-9033-4847-d8ed-cbdbc7363722"
   },
   "outputs": [
    {
     "data": {
      "text/html": [
       "<div>\n",
       "<style scoped>\n",
       "    .dataframe tbody tr th:only-of-type {\n",
       "        vertical-align: middle;\n",
       "    }\n",
       "\n",
       "    .dataframe tbody tr th {\n",
       "        vertical-align: top;\n",
       "    }\n",
       "\n",
       "    .dataframe thead th {\n",
       "        text-align: right;\n",
       "    }\n",
       "</style>\n",
       "<table border=\"1\" class=\"dataframe\">\n",
       "  <thead>\n",
       "    <tr style=\"text-align: right;\">\n",
       "      <th></th>\n",
       "      <th>actual_0</th>\n",
       "      <th>actual_1</th>\n",
       "    </tr>\n",
       "  </thead>\n",
       "  <tbody>\n",
       "    <tr>\n",
       "      <th>pridicted_0</th>\n",
       "      <td>0</td>\n",
       "      <td>0</td>\n",
       "    </tr>\n",
       "    <tr>\n",
       "      <th>predicted_1</th>\n",
       "      <td>100</td>\n",
       "      <td>10000</td>\n",
       "    </tr>\n",
       "  </tbody>\n",
       "</table>\n",
       "</div>"
      ],
      "text/plain": [
       "             actual_0  actual_1\n",
       "pridicted_0         0         0\n",
       "predicted_1       100     10000"
      ]
     },
     "execution_count": 9,
     "metadata": {},
     "output_type": "execute_result"
    }
   ],
   "source": [
    "tn,fn,fp,tp=confuse_matrix(df_a['y'].values,df_a['y_predict'].values)\n",
    "confuse_matrix_df=pd.DataFrame([[tn,fn],\n",
    "                                [fp,tp]],index=['pridicted_0','predicted_1'],columns=['actual_0','actual_1'])\n",
    "confuse_matrix_df"
   ]
  },
  {
   "cell_type": "code",
   "execution_count": 10,
   "metadata": {
    "colab": {
     "base_uri": "https://localhost:8080/"
    },
    "id": "raVJpSGJywdM",
    "outputId": "74ddfe44-14ab-488d-c7b6-fbe61cb26b86"
   },
   "outputs": [
    {
     "name": "stdout",
     "output_type": "stream",
     "text": [
      "true +ve rate : 1.0\n",
      "\n",
      "true -ve rate : 0.0\n",
      "\n",
      "false +ve rate: 1.0\n",
      "\n",
      "false -ve rate: 0.0\n",
      "\n"
     ]
    }
   ],
   "source": [
    "print(\"true +ve rate : {}\\n\".format(tp/(tp+fn)))\n",
    "print(\"true -ve rate : {}\\n\".format(tn/(tn+fp)))\n",
    "print('false +ve rate: {}\\n'.format(fp/(tn+fp)))\n",
    "print('false -ve rate: {}\\n'.format(fn/(tp+fn)))"
   ]
  },
  {
   "cell_type": "code",
   "execution_count": 11,
   "metadata": {
    "colab": {
     "base_uri": "https://localhost:8080/"
    },
    "id": "3188zjPQw2vF",
    "outputId": "588168d2-718a-43ed-d047-a2efad737f08"
   },
   "outputs": [
    {
     "name": "stdout",
     "output_type": "stream",
     "text": [
      "precision :0.9900990099009901\n",
      "\n",
      "recall    :1.0\n",
      "\n",
      "f1 score  :0.9950248756218906\n",
      "\n"
     ]
    }
   ],
   "source": [
    "# 2) Compute F1 Score \n",
    "def precision(tp,fp):\n",
    "  return tp/(tp+fp)\n",
    "def recall(tp,fn):\n",
    "  return tp/(tp+fn)\n",
    "def f1_score(pre,reca):\n",
    "  return 2*pre*reca/(pre+reca)\n",
    "precision_=precision(tp,fp)\n",
    "recall_=recall(tp,fn)\n",
    "print(\"precision :{}\\n\".format(precision_))\n",
    "print(\"recall    :{}\\n\".format(recall_))\n",
    "print(\"f1 score  :{}\\n\".format(f1_score(precision_,recall_)))"
   ]
  },
  {
   "cell_type": "code",
   "execution_count": 12,
   "metadata": {
    "id": "ZnD_7H_03ySP"
   },
   "outputs": [],
   "source": [
    "# 3)Compute AUC Score, you need to compute different thresholds and for each threshold compute tpr,fpr and then use \n",
    "#numpy.trapz(tpr_array, fpr_array)\n",
    "def ROC_curve(y_original,y_prob):\n",
    "  TPR_list=[]\n",
    "  FPR_list=[]\n",
    "  data=pd.DataFrame({'y_original':y_original,'y_prob':y_prob})\n",
    "  data.sort_values(by='y_prob',ascending=False,inplace=True)\n",
    "  y_original=data['y_original'].values\n",
    "  y_prob=data['y_prob'].values\n",
    "  for i in y_prob:\n",
    "    y_after_threshold=list(map(lambda x :1 if x>=i else 0,y_prob))\n",
    "    tn,fn,fp,tp=confuse_matrix(y_original,y_after_threshold)\n",
    "    TPR_list.append(tp/(tp+fn))\n",
    "    FPR_list.append(fp/(tn+fp))\n",
    "  return TPR_list,FPR_list,y_prob"
   ]
  },
  {
   "cell_type": "code",
   "execution_count": 13,
   "metadata": {
    "id": "5GGIPZwZ8Ant"
   },
   "outputs": [],
   "source": [
    "TPR,FPR,Y_thresh=ROC_curve(df_a['y'].values,df_a['proba'])"
   ]
  },
  {
   "cell_type": "code",
   "execution_count": 14,
   "metadata": {
    "colab": {
     "base_uri": "https://localhost:8080/"
    },
    "id": "3IIKxkFWAAX9",
    "outputId": "7696b2ad-0dbd-4968-d2ea-caca21e6246a"
   },
   "outputs": [
    {
     "name": "stdout",
     "output_type": "stream",
     "text": [
      "AUC score : 0.48829900000000004\n"
     ]
    }
   ],
   "source": [
    "print('AUC score : {}'.format(np.trapz(TPR,FPR)))"
   ]
  },
  {
   "cell_type": "code",
   "execution_count": 15,
   "metadata": {
    "id": "3vpe2CzDVaua"
   },
   "outputs": [],
   "source": [
    "# 4)Compute Accuracy Score \n",
    "def accuracy_score(y_original,y_predicted):\n",
    "  correct=0\n",
    "  for i,j in zip(y_original,y_predicted):\n",
    "    if i==0 and j==0:\n",
    "      correct+=1\n",
    "    elif i==1 and j==1:\n",
    "      correct+=1\n",
    "  return correct/len(y_original)"
   ]
  },
  {
   "cell_type": "code",
   "execution_count": 16,
   "metadata": {
    "colab": {
     "base_uri": "https://localhost:8080/"
    },
    "id": "VwEm1FeKWJ_F",
    "outputId": "2c2069c3-f4c1-49af-ca0b-1685517757c4"
   },
   "outputs": [
    {
     "name": "stdout",
     "output_type": "stream",
     "text": [
      "accuracy score : 0.9900990099009901 \n"
     ]
    }
   ],
   "source": [
    "print('accuracy score : {} '.format(accuracy_score(df_a['y'].values,df_a['y_predict'].values)))"
   ]
  },
  {
   "cell_type": "markdown",
   "metadata": {
    "id": "V5KZem1BQvn2"
   },
   "source": [
    "\n",
    "\n",
    "## B. Compute performance metrics for the given data '5_b.csv'\n",
    "<pre>\n",
    "   <b>Note 1:</b> in this data you can see number of positive points << number of negatives points\n",
    "   <b>Note 2:</b> use pandas or numpy to read the data from <b>5_b.csv</b>\n",
    "   <b>Note 3:</b> you need to derive the class labels from given score</pre> $y^{pred}= \\text{[0 if y_score < 0.5 else 1]}$\n",
    "\n",
    "<pre>\n",
    "<ol>\n",
    "<li> Compute Confusion Matrix </li>\n",
    "<li> Compute F1 Score </li>\n",
    "<li> Compute AUC Score, you need to compute different thresholds and for each threshold compute tpr,fpr and then use               numpy.trapz(tpr_array, fpr_array) <a href='https://stackoverflow.com/q/53603376/4084039'>https://stackoverflow.com/q/53603376/4084039</a>, <a href='https://stackoverflow.com/a/39678975/4084039'>https://stackoverflow.com/a/39678975/4084039</a>\n",
    "Note- Make sure that you arrange your probability scores in descending order while calculating AUC</li>\n",
    "<li> Compute Accuracy Score </li>\n",
    "</ol>\n",
    "</pre>"
   ]
  },
  {
   "cell_type": "code",
   "execution_count": 17,
   "metadata": {
    "colab": {
     "base_uri": "https://localhost:8080/",
     "height": 203
    },
    "id": "U2sKlq0YQvn5",
    "outputId": "5c60358f-dd86-41e9-f9d4-68db048596fc"
   },
   "outputs": [
    {
     "data": {
      "text/html": [
       "<div>\n",
       "<style scoped>\n",
       "    .dataframe tbody tr th:only-of-type {\n",
       "        vertical-align: middle;\n",
       "    }\n",
       "\n",
       "    .dataframe tbody tr th {\n",
       "        vertical-align: top;\n",
       "    }\n",
       "\n",
       "    .dataframe thead th {\n",
       "        text-align: right;\n",
       "    }\n",
       "</style>\n",
       "<table border=\"1\" class=\"dataframe\">\n",
       "  <thead>\n",
       "    <tr style=\"text-align: right;\">\n",
       "      <th></th>\n",
       "      <th>y</th>\n",
       "      <th>proba</th>\n",
       "    </tr>\n",
       "  </thead>\n",
       "  <tbody>\n",
       "    <tr>\n",
       "      <th>0</th>\n",
       "      <td>0.0</td>\n",
       "      <td>0.281035</td>\n",
       "    </tr>\n",
       "    <tr>\n",
       "      <th>1</th>\n",
       "      <td>0.0</td>\n",
       "      <td>0.465152</td>\n",
       "    </tr>\n",
       "    <tr>\n",
       "      <th>2</th>\n",
       "      <td>0.0</td>\n",
       "      <td>0.352793</td>\n",
       "    </tr>\n",
       "    <tr>\n",
       "      <th>3</th>\n",
       "      <td>0.0</td>\n",
       "      <td>0.157818</td>\n",
       "    </tr>\n",
       "    <tr>\n",
       "      <th>4</th>\n",
       "      <td>0.0</td>\n",
       "      <td>0.276648</td>\n",
       "    </tr>\n",
       "  </tbody>\n",
       "</table>\n",
       "</div>"
      ],
      "text/plain": [
       "     y     proba\n",
       "0  0.0  0.281035\n",
       "1  0.0  0.465152\n",
       "2  0.0  0.352793\n",
       "3  0.0  0.157818\n",
       "4  0.0  0.276648"
      ]
     },
     "execution_count": 17,
     "metadata": {},
     "output_type": "execute_result"
    }
   ],
   "source": [
    "df_b=pd.read_csv('/content/drive/MyDrive/appliedai/5_Performance_metrics/5_b.csv')\n",
    "df_b.head()"
   ]
  },
  {
   "cell_type": "code",
   "execution_count": 18,
   "metadata": {
    "colab": {
     "base_uri": "https://localhost:8080/"
    },
    "id": "xlLVa-cVAfCS",
    "outputId": "8fe5a771-8705-4a9a-a5e2-eb563ee5297d"
   },
   "outputs": [
    {
     "name": "stdout",
     "output_type": "stream",
     "text": [
      "shape : (10100, 2)\n",
      "\n",
      "null values \n",
      " y        0\n",
      "proba    0\n",
      "dtype: int64\n",
      "\n",
      "values count :\n",
      " 0.0    10000\n",
      "1.0      100\n",
      "Name: y, dtype: int64\n"
     ]
    }
   ],
   "source": [
    "# write your code here for task B\n",
    "print('shape :',df_b.shape)\n",
    "print()\n",
    "print(\"null values \\n\",df_b.isnull().sum())\n",
    "print()\n",
    "print('values count :\\n',df_b['y'].value_counts())"
   ]
  },
  {
   "cell_type": "code",
   "execution_count": 19,
   "metadata": {
    "id": "9-AEwzkNZJ3P"
   },
   "outputs": [],
   "source": [
    "#adding y_predict\n",
    "df_b['y_predict']=list(map(lambda x : 0 if x<0.5 else 1,df_b['proba'].values))"
   ]
  },
  {
   "cell_type": "code",
   "execution_count": 20,
   "metadata": {
    "id": "DFTTlVqRVCBl"
   },
   "outputs": [],
   "source": [
    "# write your code here for task A\n",
    "# 1)Compute Confusion Matrix\n",
    "def confuse_matrix(y_original,y_predicted): #y_original and y_predicted are arrays\n",
    "  tp=fp=tn=fn=0\n",
    "  for i,j in zip(y_original,y_predicted):\n",
    "    if i==0:\n",
    "      if j==0:\n",
    "        tn+=1\n",
    "      else:\n",
    "        fp+=1\n",
    "    else:\n",
    "      if j==0:\n",
    "        fn+=1\n",
    "      else:\n",
    "        tp+=1\n",
    "  return tn,fn,fp,tp"
   ]
  },
  {
   "cell_type": "code",
   "execution_count": 21,
   "metadata": {
    "colab": {
     "base_uri": "https://localhost:8080/",
     "height": 110
    },
    "id": "xhpsYuuvZaE6",
    "outputId": "ee2da8a0-c9f3-4a41-f409-6a78f74ca9f9"
   },
   "outputs": [
    {
     "data": {
      "text/html": [
       "<div>\n",
       "<style scoped>\n",
       "    .dataframe tbody tr th:only-of-type {\n",
       "        vertical-align: middle;\n",
       "    }\n",
       "\n",
       "    .dataframe tbody tr th {\n",
       "        vertical-align: top;\n",
       "    }\n",
       "\n",
       "    .dataframe thead th {\n",
       "        text-align: right;\n",
       "    }\n",
       "</style>\n",
       "<table border=\"1\" class=\"dataframe\">\n",
       "  <thead>\n",
       "    <tr style=\"text-align: right;\">\n",
       "      <th></th>\n",
       "      <th>actual_0</th>\n",
       "      <th>actual_1</th>\n",
       "    </tr>\n",
       "  </thead>\n",
       "  <tbody>\n",
       "    <tr>\n",
       "      <th>pridicted_0</th>\n",
       "      <td>9761</td>\n",
       "      <td>45</td>\n",
       "    </tr>\n",
       "    <tr>\n",
       "      <th>predicted_1</th>\n",
       "      <td>239</td>\n",
       "      <td>55</td>\n",
       "    </tr>\n",
       "  </tbody>\n",
       "</table>\n",
       "</div>"
      ],
      "text/plain": [
       "             actual_0  actual_1\n",
       "pridicted_0      9761        45\n",
       "predicted_1       239        55"
      ]
     },
     "execution_count": 21,
     "metadata": {},
     "output_type": "execute_result"
    }
   ],
   "source": [
    "tn,fn,fp,tp=confuse_matrix(df_b['y'].values,df_b['y_predict'].values)\n",
    "confuse_matrix_df=pd.DataFrame([[tn,fn],\n",
    "                                [fp,tp]],index=['pridicted_0','predicted_1'],columns=['actual_0','actual_1'])\n",
    "confuse_matrix_df"
   ]
  },
  {
   "cell_type": "code",
   "execution_count": 22,
   "metadata": {
    "colab": {
     "base_uri": "https://localhost:8080/"
    },
    "id": "5YeaZmlxZpa4",
    "outputId": "52461499-2776-44d6-c2c0-fa76e76e009d"
   },
   "outputs": [
    {
     "name": "stdout",
     "output_type": "stream",
     "text": [
      "true +ve rate : 0.55\n",
      "\n",
      "true -ve rate : 0.9761\n",
      "\n",
      "false +ve rate: 0.0239\n",
      "\n",
      "false -ve rate: 0.45\n",
      "\n"
     ]
    }
   ],
   "source": [
    "print(\"true +ve rate : {}\\n\".format(tp/(tp+fn)))\n",
    "print(\"true -ve rate : {}\\n\".format(tn/(tn+fp)))\n",
    "print('false +ve rate: {}\\n'.format(fp/(tn+fp)))\n",
    "print('false -ve rate: {}\\n'.format(fn/(tp+fn)))"
   ]
  },
  {
   "cell_type": "code",
   "execution_count": 23,
   "metadata": {
    "colab": {
     "base_uri": "https://localhost:8080/"
    },
    "id": "R2IdnDvuZydO",
    "outputId": "9b919f2b-6045-46df-c914-842664059986"
   },
   "outputs": [
    {
     "name": "stdout",
     "output_type": "stream",
     "text": [
      "precision :0.1870748299319728\n",
      "\n",
      "recall    :0.55\n",
      "\n",
      "f1 score  :0.2791878172588833\n",
      "\n"
     ]
    }
   ],
   "source": [
    "# 2) Compute F1 Score \n",
    "def precision(tp,fp):\n",
    "  return tp/(tp+fp)\n",
    "def recall(tp,fn):\n",
    "  return tp/(tp+fn)\n",
    "def f1_score(pre,reca):\n",
    "  return 2*pre*reca/(pre+reca)\n",
    "precision_=precision(tp,fp)\n",
    "recall_=recall(tp,fn)\n",
    "print(\"precision :{}\\n\".format(precision_))\n",
    "print(\"recall    :{}\\n\".format(recall_))\n",
    "print(\"f1 score  :{}\\n\".format(f1_score(precision_,recall_)))"
   ]
  },
  {
   "cell_type": "code",
   "execution_count": 24,
   "metadata": {
    "id": "rP9XwnmbZ2TA"
   },
   "outputs": [],
   "source": [
    "# 3)Compute AUC Score, you need to compute different thresholds and for each threshold compute tpr,fpr and then use \n",
    "#numpy.trapz(tpr_array, fpr_array)\n",
    "def AUC_score(y_original,y_prob):\n",
    "  TPR_list=[]\n",
    "  FPR_list=[]\n",
    "  data=pd.DataFrame({'y_original':y_original,'y_prob':y_prob})\n",
    "  data.sort_values(by='y_prob',ascending=False,inplace=True)\n",
    "  y_original=data['y_original'].values\n",
    "  y_prob=data['y_prob'].values\n",
    "  for i in y_prob:\n",
    "    y_after_threshold=list(map(lambda x :1 if x>=i else 0,y_prob))\n",
    "    tn,fn,fp,tp=confuse_matrix(y_original,y_after_threshold)\n",
    "    TPR_list.append(tp/(tp+fn))\n",
    "    FPR_list.append(fp/(tn+fp))\n",
    "  return TPR_list,FPR_list,y_prob"
   ]
  },
  {
   "cell_type": "code",
   "execution_count": 25,
   "metadata": {
    "id": "N7JzdIbLZ7I9"
   },
   "outputs": [],
   "source": [
    "TPR_b,FPR_b,Y_thresh=AUC_score(df_b['y'].values,df_b['proba'].values)"
   ]
  },
  {
   "cell_type": "code",
   "execution_count": 26,
   "metadata": {
    "colab": {
     "base_uri": "https://localhost:8080/"
    },
    "id": "aWhy2XxwaIb8",
    "outputId": "48ee51c4-c9a3-4a24-fb2c-f662f941652d"
   },
   "outputs": [
    {
     "name": "stdout",
     "output_type": "stream",
     "text": [
      "AUC score : 0.9377570000000001\n"
     ]
    }
   ],
   "source": [
    "print('AUC score : {}'.format(np.trapz(TPR_b,FPR_b)))"
   ]
  },
  {
   "cell_type": "code",
   "execution_count": 27,
   "metadata": {
    "id": "mKeRKeMobCiN"
   },
   "outputs": [],
   "source": [
    "# 4)Compute Accuracy Score \n",
    "def accuracy_score(y_original,y_predicted):\n",
    "  correct=0\n",
    "  for i,j in zip(y_original,y_predicted):\n",
    "    if i==0 and j==0:\n",
    "      correct+=1\n",
    "    elif i==1 and j==1:\n",
    "      correct+=1\n",
    "  return correct/len(y_original)"
   ]
  },
  {
   "cell_type": "code",
   "execution_count": 28,
   "metadata": {
    "colab": {
     "base_uri": "https://localhost:8080/"
    },
    "id": "4LXDbZYhbGW5",
    "outputId": "cae9a673-e1e3-4793-a61c-4adeb539b834"
   },
   "outputs": [
    {
     "name": "stdout",
     "output_type": "stream",
     "text": [
      "accuracy score : 0.9718811881188119 \n"
     ]
    }
   ],
   "source": [
    "print('accuracy score : {} '.format(accuracy_score(df_b['y'].values,df_b['y_predict'].values)))"
   ]
  },
  {
   "cell_type": "markdown",
   "metadata": {
    "id": "GiPGonTzQvoB"
   },
   "source": [
    "### C. Compute the best threshold (similarly to ROC curve computation) of probability which gives lowest values of metric <b>A</b> for the given data \n",
    "<br>\n",
    "\n",
    "you will be predicting label of a data points like this: $y^{pred}= \\text{[0 if y_score < threshold  else 1]}$\n",
    "\n",
    "$ A = 500 \\times \\text{number of false negative} + 100 \\times \\text{numebr of false positive}$\n",
    "\n",
    "<pre>\n",
    "   <b>Note 1:</b> in this data you can see number of negative points > number of positive points\n",
    "   <b>Note 2:</b> use pandas or numpy to read the data from <b>5_c.csv</b>\n",
    "</pre>"
   ]
  },
  {
   "cell_type": "code",
   "execution_count": 29,
   "metadata": {
    "colab": {
     "base_uri": "https://localhost:8080/",
     "height": 203
    },
    "id": "x5HIJzq1QvoE",
    "outputId": "9af08ca2-697e-4bbd-cde4-6ed1b2d66d63"
   },
   "outputs": [
    {
     "data": {
      "text/html": [
       "<div>\n",
       "<style scoped>\n",
       "    .dataframe tbody tr th:only-of-type {\n",
       "        vertical-align: middle;\n",
       "    }\n",
       "\n",
       "    .dataframe tbody tr th {\n",
       "        vertical-align: top;\n",
       "    }\n",
       "\n",
       "    .dataframe thead th {\n",
       "        text-align: right;\n",
       "    }\n",
       "</style>\n",
       "<table border=\"1\" class=\"dataframe\">\n",
       "  <thead>\n",
       "    <tr style=\"text-align: right;\">\n",
       "      <th></th>\n",
       "      <th>y</th>\n",
       "      <th>prob</th>\n",
       "    </tr>\n",
       "  </thead>\n",
       "  <tbody>\n",
       "    <tr>\n",
       "      <th>0</th>\n",
       "      <td>0</td>\n",
       "      <td>0.458521</td>\n",
       "    </tr>\n",
       "    <tr>\n",
       "      <th>1</th>\n",
       "      <td>0</td>\n",
       "      <td>0.505037</td>\n",
       "    </tr>\n",
       "    <tr>\n",
       "      <th>2</th>\n",
       "      <td>0</td>\n",
       "      <td>0.418652</td>\n",
       "    </tr>\n",
       "    <tr>\n",
       "      <th>3</th>\n",
       "      <td>0</td>\n",
       "      <td>0.412057</td>\n",
       "    </tr>\n",
       "    <tr>\n",
       "      <th>4</th>\n",
       "      <td>0</td>\n",
       "      <td>0.375579</td>\n",
       "    </tr>\n",
       "  </tbody>\n",
       "</table>\n",
       "</div>"
      ],
      "text/plain": [
       "   y      prob\n",
       "0  0  0.458521\n",
       "1  0  0.505037\n",
       "2  0  0.418652\n",
       "3  0  0.412057\n",
       "4  0  0.375579"
      ]
     },
     "execution_count": 29,
     "metadata": {},
     "output_type": "execute_result"
    }
   ],
   "source": [
    "df_c=pd.read_csv('/content/drive/MyDrive/appliedai/5_Performance_metrics/5_c.csv')\n",
    "df_c.head()"
   ]
  },
  {
   "cell_type": "code",
   "execution_count": 30,
   "metadata": {
    "colab": {
     "base_uri": "https://localhost:8080/"
    },
    "id": "X8XdD8tkhfZ5",
    "outputId": "de022912-2451-407f-b3da-48dfe60b3f50"
   },
   "outputs": [
    {
     "name": "stdout",
     "output_type": "stream",
     "text": [
      "shape : (2852, 2)\n",
      "\n",
      "null values \n",
      " y       0\n",
      "prob    0\n",
      "dtype: int64\n",
      "\n",
      "values count :\n",
      " 0    1805\n",
      "1    1047\n",
      "Name: y, dtype: int64\n"
     ]
    }
   ],
   "source": [
    "print('shape :',df_c.shape)\n",
    "print()\n",
    "print(\"null values \\n\",df_c.isnull().sum())\n",
    "print()\n",
    "print('values count :\\n',df_c['y'].value_counts())"
   ]
  },
  {
   "cell_type": "code",
   "execution_count": 31,
   "metadata": {
    "id": "eAPjewjzAfCa"
   },
   "outputs": [],
   "source": [
    "# write your code for task C\n",
    "\n",
    "def best_threshold(y_original,y_prob):\n",
    "  #data=pd.DataFrame({'y_original':y_original,'y_prob':y_prob})\n",
    "  #data.sort_values(by='y_prob',ascending=False,inplace=True)\n",
    "  #y_original=data['y_original'].values\n",
    "  #y_prob=data['y_prob'].values\n",
    "  A_values=[]\n",
    "  for i in y_prob:\n",
    "    y_after_threshold=list(map(lambda x :1 if x>=i else 0,y_prob))\n",
    "    tn,fn,fp,tp=confuse_matrix(y_original,y_after_threshold)\n",
    "    A_values.append(500*fn+100*fp)\n",
    "  least=min(A_values)\n",
    "  threshold=list(y_prob)[A_values.index(least)]\n",
    "  return threshold,least"
   ]
  },
  {
   "cell_type": "code",
   "execution_count": 32,
   "metadata": {
    "colab": {
     "base_uri": "https://localhost:8080/"
    },
    "id": "gqN9zT7UCaRh",
    "outputId": "077579a8-4bdc-4548-e484-8e151e276bd9"
   },
   "outputs": [
    {
     "name": "stdout",
     "output_type": "stream",
     "text": [
      "threshold : 0.2300390278970873 \n",
      " A     : 141000 \n"
     ]
    }
   ],
   "source": [
    "thresh,A=best_threshold(df_c['y'],df_c['prob'])\n",
    "print('threshold : {} \\n A     : {} '.format(thresh,A))"
   ]
  },
  {
   "cell_type": "markdown",
   "metadata": {
    "id": "sD4CcgjXQvoL"
   },
   "source": [
    "\n",
    "## Compute performance metrics(for regression) \n",
    "\n"
   ]
  },
  {
   "cell_type": "code",
   "execution_count": 33,
   "metadata": {
    "colab": {
     "base_uri": "https://localhost:8080/",
     "height": 203
    },
    "id": "sVOj-bF9AfCd",
    "outputId": "940defcc-a670-444a-a4a1-b0191be7ab68"
   },
   "outputs": [
    {
     "data": {
      "text/html": [
       "<div>\n",
       "<style scoped>\n",
       "    .dataframe tbody tr th:only-of-type {\n",
       "        vertical-align: middle;\n",
       "    }\n",
       "\n",
       "    .dataframe tbody tr th {\n",
       "        vertical-align: top;\n",
       "    }\n",
       "\n",
       "    .dataframe thead th {\n",
       "        text-align: right;\n",
       "    }\n",
       "</style>\n",
       "<table border=\"1\" class=\"dataframe\">\n",
       "  <thead>\n",
       "    <tr style=\"text-align: right;\">\n",
       "      <th></th>\n",
       "      <th>y</th>\n",
       "      <th>pred</th>\n",
       "    </tr>\n",
       "  </thead>\n",
       "  <tbody>\n",
       "    <tr>\n",
       "      <th>0</th>\n",
       "      <td>101.0</td>\n",
       "      <td>100.0</td>\n",
       "    </tr>\n",
       "    <tr>\n",
       "      <th>1</th>\n",
       "      <td>120.0</td>\n",
       "      <td>100.0</td>\n",
       "    </tr>\n",
       "    <tr>\n",
       "      <th>2</th>\n",
       "      <td>131.0</td>\n",
       "      <td>113.0</td>\n",
       "    </tr>\n",
       "    <tr>\n",
       "      <th>3</th>\n",
       "      <td>164.0</td>\n",
       "      <td>125.0</td>\n",
       "    </tr>\n",
       "    <tr>\n",
       "      <th>4</th>\n",
       "      <td>154.0</td>\n",
       "      <td>152.0</td>\n",
       "    </tr>\n",
       "  </tbody>\n",
       "</table>\n",
       "</div>"
      ],
      "text/plain": [
       "       y   pred\n",
       "0  101.0  100.0\n",
       "1  120.0  100.0\n",
       "2  131.0  113.0\n",
       "3  164.0  125.0\n",
       "4  154.0  152.0"
      ]
     },
     "execution_count": 33,
     "metadata": {},
     "output_type": "execute_result"
    }
   ],
   "source": [
    "df_d=pd.read_csv('/content/drive/MyDrive/appliedai/5_Performance_metrics/5_d.csv')\n",
    "df_d.head()"
   ]
  },
  {
   "cell_type": "code",
   "execution_count": 34,
   "metadata": {
    "id": "uRhL1pheAfCe"
   },
   "outputs": [],
   "source": [
    " # write your code for task 5d\n",
    " def MSE(y_original,y_predicted):\n",
    "   error=0\n",
    "   for i,j in zip(y_original,y_predicted):\n",
    "     error+=((i-j)**2)\n",
    "   return (error)*(1/len(y_original))"
   ]
  },
  {
   "cell_type": "code",
   "execution_count": 36,
   "metadata": {
    "colab": {
     "base_uri": "https://localhost:8080/"
    },
    "id": "G17jdWsiFkvl",
    "outputId": "fbba97b4-b2b5-4304-d229-5b2d58878612"
   },
   "outputs": [
    {
     "name": "stdout",
     "output_type": "stream",
     "text": [
      "MSE : 177.16569974554707\n"
     ]
    }
   ],
   "source": [
    "print(\"MSE : {}\".format(MSE(df_d['y'].values,df_d['pred'].values)))"
   ]
  },
  {
   "cell_type": "code",
   "execution_count": 37,
   "metadata": {
    "id": "ztxsRuLXCBSL"
   },
   "outputs": [],
   "source": [
    "def MAPE(y_original,y_predicted):\n",
    "  error=0\n",
    "  for i,j in zip(y_original,y_predicted):\n",
    "    error+=abs(i-j)\n",
    "  return error/sum(y_original)"
   ]
  },
  {
   "cell_type": "code",
   "execution_count": 39,
   "metadata": {
    "colab": {
     "base_uri": "https://localhost:8080/"
    },
    "id": "uEGshh3BLuxL",
    "outputId": "6591a7ed-3ad7-46cb-8811-9b35d0796934"
   },
   "outputs": [
    {
     "name": "stdout",
     "output_type": "stream",
     "text": [
      "MAPE : 0.1291202994009687\n"
     ]
    }
   ],
   "source": [
    "print(\"MAPE : {}\".format(MAPE(df_d['y'],df_d['pred'])))"
   ]
  },
  {
   "cell_type": "code",
   "execution_count": 40,
   "metadata": {
    "id": "1wiv1ZciArpx"
   },
   "outputs": [],
   "source": [
    "# Compute R^2 error\n",
    "def R2(y_original,y_predicted):\n",
    "  S=y_predicted.mean()\n",
    "  ss=0\n",
    "  mm=0\n",
    "  for i,j in zip(y_original,y_predicted):\n",
    "    ss+=(i-S)**2\n",
    "    mm+=(i-j)**2\n",
    "  return 1-(mm/ss)"
   ]
  },
  {
   "cell_type": "code",
   "execution_count": 42,
   "metadata": {
    "colab": {
     "base_uri": "https://localhost:8080/"
    },
    "id": "6RWHOtNhA7YR",
    "outputId": "9e465afd-0cdf-4b1a-c0cf-867eb48db2ce"
   },
   "outputs": [
    {
     "name": "stdout",
     "output_type": "stream",
     "text": [
      "R^2 : 0.9563583447288628 \n"
     ]
    }
   ],
   "source": [
    "print('R^2 : {} '.format(R2(df_d['y'],df_d['pred'])))"
   ]
  },
  {
   "cell_type": "code",
   "execution_count": null,
   "metadata": {
    "id": "BMluc9vhPrHm"
   },
   "outputs": [],
   "source": []
  }
 ],
 "metadata": {
  "colab": {
   "collapsed_sections": [],
   "name": "Copy of 5_Performance_metrics_Instructions.ipynb",
   "provenance": []
  },
  "kernelspec": {
   "display_name": "Python 3 (ipykernel)",
   "language": "python",
   "name": "python3"
  },
  "language_info": {
   "codemirror_mode": {
    "name": "ipython",
    "version": 3
   },
   "file_extension": ".py",
   "mimetype": "text/x-python",
   "name": "python",
   "nbconvert_exporter": "python",
   "pygments_lexer": "ipython3",
   "version": "3.7.6"
  }
 },
 "nbformat": 4,
 "nbformat_minor": 1
}
