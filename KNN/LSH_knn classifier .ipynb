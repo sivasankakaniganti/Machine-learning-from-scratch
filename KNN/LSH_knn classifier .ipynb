{
 "cells": [
  {
   "cell_type": "code",
   "execution_count": 2,
   "id": "01349fbb-2b1b-4f45-b3c4-b03553993aab",
   "metadata": {},
   "outputs": [],
   "source": [
    "import numpy as np"
   ]
  },
  {
   "cell_type": "code",
   "execution_count": 146,
   "id": "9ab7e5e9-1c45-41a9-8439-0917883e3c3d",
   "metadata": {},
   "outputs": [],
   "source": [
    "class LSHknn:\n",
    "    \"\"\"\n",
    "    k:number of nearest neighboors \n",
    "    \n",
    "    no_of_planes: no of hyper planes \n",
    "    \n",
    "    \"\"\"\n",
    "    def __init__(self,k=5,no_of_planes=5):\n",
    "        self.k=k                                        #k nearest neighbours\n",
    "        self.no_of_planes=no_of_planes                  #number of planes\n",
    "        self.x=None                                     #data\n",
    "        self.y=None                                     #labels\n",
    "        self.no_classes=None                            #number of classes\n",
    "        self.dim_of_data=None                           #number of dimenstions\n",
    "        self.planes=None                                #planes  \n",
    "        self.bucket=None                                #buckets\n",
    "        self.bucket_labels=None                         #bucket wise labels\n",
    "        \n",
    "        \n",
    "    def __random_hyperpplanes(self):\n",
    "        planes=[]\n",
    "        for i in range(self.no_of_planes):\n",
    "            planes.append(np.random.uniform(-1,1,self.dim_of_data))     # creating random hyper planes \n",
    "        self.planes=planes\n",
    "        \n",
    "        \n",
    "    def __assigning_each_point_to_a_bucket(self):\n",
    "        bucket={}                                        #bucket dict\n",
    "        bucket_labels={}                                 #corresponding labels\n",
    "        for i,k in zip(self.x,self.y):\n",
    "            temp=[]                                               \n",
    "            for j in self.planes: \n",
    "                temp.append(np.sign(sum(i*j)))           #sign of each point                      \n",
    "            temp=tuple(temp)                             #tuple with signs , used as a key \n",
    "            if temp in bucket.keys():                    # already that key exist then add point to that bucket \n",
    "                bucket[temp].append(i)                  \n",
    "                bucket_labels[temp].append(k)\n",
    "            else:                                        #if that key is not exist then create a new key with that\n",
    "                bucket[temp]=[i]\n",
    "                bucket_labels[temp]=[k]\n",
    "        self.bucket=bucket\n",
    "        self.bucket_labels=bucket_labels\n",
    "        \n",
    "        \n",
    "    def fit(self,x,y):\n",
    "        \"\"\"\n",
    "        X: data matrix with (rows,columns) or (points,features)\n",
    "        \n",
    "        y: class numbers in intergeer example [1,2,0,1,2,0,2,1]\n",
    "        \"\"\"\n",
    "        self.x=x\n",
    "        self.y=y\n",
    "        self.dim_of_data=len(x[0])\n",
    "        self.no_classes=np.unique(y)\n",
    "        self.__random_hyperpplanes()\n",
    "        self.__assigning_each_point_to_a_bucket()\n",
    "        print('k_nearest_neighbours={}'.format(self.k))\n",
    "        print('number of class : {} '.format(len(self.no_classes)))\n",
    "        print('number of hyper planes {}'.format(self.no_of_planes))\n",
    "    \n",
    "    \n",
    "    def __k_neighbors(self,xq):\n",
    "        signs=[]              \n",
    "        for i in self.planes:\n",
    "            signs.append(np.sign(sum(i*xq)))                #calculate key for quesry point\n",
    "        signs=tuple(signs)                            \n",
    "        if signs not in self.bucket.keys():                 # if key not exist then resturn dont know\n",
    "            return 'dont know'\n",
    "        \n",
    "        dist=[]                                             #if key exist ,then calculate nearest neighbours in that corresponding busket\n",
    "        for i in self.bucket[signs]:                        \n",
    "            dist.append(np.linalg.norm(i-xq))               #l2 or euclidien distance b/w xq to every point in the data \n",
    "        index=np.argsort(dist)[:self.k]                     #top k neighbours\n",
    "        index=np.array(self.bucket_labels[signs])[index]    #correspoding labels\n",
    "        \n",
    "        p=dict(zip(self.no_classes,np.zeros(len(self.no_classes)))) \n",
    "        for i in index:                                     #for each class : number_of_neighours belogs to that class\n",
    "            p[i]+=1\n",
    "        return p\n",
    "    \n",
    "    \n",
    "    def predict(self,xq):\n",
    "        \"\"\"\n",
    "        xq : query point\n",
    "        \n",
    "        predicts one point at a time \n",
    "        \n",
    "        \"\"\"\n",
    "        p=self.__k_neighbors(xq)                           #class : number_of_neighours belogs to that class\n",
    "        index=list(p.keys())        \n",
    "        values=list(p.values())\n",
    "        return index[np.argmax(values)]                    #majority vote returning top class\n",
    "    \n",
    "    \n",
    "    def predict_prob(self,xq):    \n",
    "        \"\"\"\n",
    "        xq : query point\n",
    "        \n",
    "        predicts one point at a time \n",
    "        \"\"\"\n",
    "        p=self.__k_neighbors(xq)                          #class : number_of_neighours belogs to that class\n",
    "        index=list(p.keys())\n",
    "        values=np.array(list(p.values()))                 #calculating probability \n",
    "        \n",
    "        return values/np.sum(values)\n",
    "    def score(self,x,y):\n",
    "        \"\"\"\n",
    "        x: data\n",
    "        \n",
    "        y: labels\n",
    "        \n",
    "        returns accuracy \n",
    "        \"\"\"\n",
    "        correct=0\n",
    "        for i in range(len(x)):\n",
    "            if y[i]==self.predict(x[i]):\n",
    "                correct+=1\n",
    "        return correct/len(y)"
   ]
  },
  {
   "cell_type": "code",
   "execution_count": 148,
   "id": "4b618390-e34f-4c25-9d5f-07ebaaf7c241",
   "metadata": {},
   "outputs": [],
   "source": [
    "from sklearn.datasets import make_classification"
   ]
  },
  {
   "cell_type": "code",
   "execution_count": 149,
   "id": "55f75bee-efe0-414d-b6fc-6816d07050f1",
   "metadata": {},
   "outputs": [],
   "source": [
    "x,y=make_classification(100)"
   ]
  },
  {
   "cell_type": "code",
   "execution_count": 150,
   "id": "d2a41a74-4b5c-4fb8-a0ef-a33db9332fbd",
   "metadata": {},
   "outputs": [
    {
     "data": {
      "text/plain": [
       "(100, 20)"
      ]
     },
     "execution_count": 150,
     "metadata": {},
     "output_type": "execute_result"
    }
   ],
   "source": [
    "x.shape"
   ]
  },
  {
   "cell_type": "code",
   "execution_count": 151,
   "id": "0827eabf-e144-4480-a554-679215ff2845",
   "metadata": {},
   "outputs": [],
   "source": [
    "m=LSHknn()"
   ]
  },
  {
   "cell_type": "code",
   "execution_count": 152,
   "id": "3b40e33c-d416-4893-b59c-98d29f57c297",
   "metadata": {},
   "outputs": [
    {
     "name": "stdout",
     "output_type": "stream",
     "text": [
      "k_nearest_neighbours=5\n",
      "number of class : 2 \n",
      "number of hyper planes 5\n"
     ]
    }
   ],
   "source": [
    "m.fit(x,y)"
   ]
  },
  {
   "cell_type": "code",
   "execution_count": 154,
   "id": "068ab5cf-9d1f-4ecd-8911-b9b91db32017",
   "metadata": {},
   "outputs": [
    {
     "data": {
      "text/plain": [
       "array([0.33333333, 0.66666667])"
      ]
     },
     "execution_count": 154,
     "metadata": {},
     "output_type": "execute_result"
    }
   ],
   "source": [
    "m.predict_prob(x[4])"
   ]
  },
  {
   "cell_type": "code",
   "execution_count": 153,
   "id": "cd7bc621-50b3-40ba-b514-71a2aa0dc2aa",
   "metadata": {},
   "outputs": [
    {
     "data": {
      "text/plain": [
       "0.85"
      ]
     },
     "execution_count": 153,
     "metadata": {},
     "output_type": "execute_result"
    }
   ],
   "source": [
    "m.score(x,y)"
   ]
  }
 ],
 "metadata": {
  "kernelspec": {
   "display_name": "Python [conda env:jupyterlab] *",
   "language": "python",
   "name": "conda-env-jupyterlab-py"
  },
  "language_info": {
   "codemirror_mode": {
    "name": "ipython",
    "version": 3
   },
   "file_extension": ".py",
   "mimetype": "text/x-python",
   "name": "python",
   "nbconvert_exporter": "python",
   "pygments_lexer": "ipython3",
   "version": "3.7.13"
  }
 },
 "nbformat": 4,
 "nbformat_minor": 5
}
