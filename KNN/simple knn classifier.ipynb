{
 "cells": [
  {
   "cell_type": "code",
   "execution_count": 2,
   "id": "fae60ac8-8d34-4949-a574-96814658a506",
   "metadata": {},
   "outputs": [],
   "source": [
    "import numpy as np"
   ]
  },
  {
   "cell_type": "code",
   "execution_count": 3,
   "id": "e232eb61-f7e8-4de3-a3b6-17c9f44e4cb7",
   "metadata": {},
   "outputs": [],
   "source": [
    "class knn:\n",
    "    \"\"\"\n",
    "    k:int number of nearest neighboors \n",
    "    \"\"\"\n",
    "    def __init__(self,k=6):\n",
    "        self.k=k\n",
    "        self.x=None\n",
    "        self.y=None\n",
    "        self.no_classes=None\n",
    "    def fit(self,X,y):\n",
    "        \"\"\"\n",
    "        X: data matrix with (rows,columns) or (points,features)\n",
    "        \n",
    "        y: class numbers in intergeer example [1,2,0,1,2,0,2,1]\n",
    "        \"\"\"\n",
    "        \n",
    "        self.no_classes=np.unique(y)  # number of classes list\n",
    "        \n",
    "        print('k={}'.format(self.k))\n",
    "        print('number of class : {} '.format(len(self.no_classes))) \n",
    "\n",
    "        \n",
    "    def __k_neighbors(self,xq):\n",
    "        dist=np.zeros(len(x))                       #distance from all points to xq are stored\n",
    "        for i in range(len(y)):\n",
    "            dist[i]=np.linalg.norm(x[i]-xq)         #l2 or euclidien distance b/w xq to every point in the data \n",
    "        index=np.argsort(dist)[:self.k]             #top k neighbours\n",
    "        index=y[index]                              #correspoding labels\n",
    "        p=dict(zip(self.no_classes,np.zeros(len(self.no_classes)))) \n",
    "        for i in index:                             #class : number_of_neighours belogs to that class\n",
    "            p[i]+=1\n",
    "        return p\n",
    "\n",
    "    \n",
    "    def predict(self,xq):\n",
    "        \"\"\"\n",
    "        xq : query point\n",
    "        \n",
    "        predicts one point at a time \n",
    "        \n",
    "        \"\"\"\n",
    "        p=self.__k_neighbors(xq)    #class : number_of_neighours belogs to that class\n",
    "        index=list(p.keys())        \n",
    "        values=list(p.values())\n",
    "        return index[np.argmax(values)]  #majority vote returning top class\n",
    "    \n",
    "    def predict_prob(self,xq):    \n",
    "        \"\"\"\n",
    "        xq : query point\n",
    "        \n",
    "        predicts one point at a time \n",
    "        \"\"\"\n",
    "        p=self.__k_neighbors(xq)   #class : number_of_neighours belogs to that class\n",
    "        index=list(p.keys())\n",
    "        values=np.array(list(p.values()))  #calculating probability \n",
    "        \n",
    "        return values/np.sum(values)\n",
    "    \n",
    "    \n",
    "    def score(self,x,y):\n",
    "        \"\"\"\n",
    "        x: data\n",
    "        \n",
    "        y: labels\n",
    "        \n",
    "        returns accuracy \n",
    "        \"\"\"\n",
    "        correct=0\n",
    "        for i in range(len(x)):\n",
    "            if y[i]==self.predict(x[i]):         #simple accuracy\n",
    "                correct+=1\n",
    "        return correct/len(y)"
   ]
  },
  {
   "cell_type": "code",
   "execution_count": 4,
   "id": "c71e0454-e968-441c-a60e-658a7ba4683e",
   "metadata": {},
   "outputs": [],
   "source": [
    "from sklearn.datasets import make_classification"
   ]
  },
  {
   "cell_type": "code",
   "execution_count": 5,
   "id": "2f890930-783f-4c32-a22e-fe0fd8d2d212",
   "metadata": {},
   "outputs": [],
   "source": [
    "x,y=make_classification()"
   ]
  },
  {
   "cell_type": "code",
   "execution_count": 6,
   "id": "87f175bd-8949-481d-84dd-517f4f1de6f2",
   "metadata": {},
   "outputs": [],
   "source": [
    "m=knn()"
   ]
  },
  {
   "cell_type": "code",
   "execution_count": 7,
   "id": "d6706038-77a1-4ffe-b57b-9edef098d9a2",
   "metadata": {},
   "outputs": [
    {
     "name": "stdout",
     "output_type": "stream",
     "text": [
      "k=6\n",
      "number of class : 2 \n"
     ]
    }
   ],
   "source": [
    "m.fit(x,y)"
   ]
  },
  {
   "cell_type": "code",
   "execution_count": 15,
   "id": "ff55b486-89ee-4620-8887-d9b686cb0b94",
   "metadata": {},
   "outputs": [
    {
     "name": "stdout",
     "output_type": "stream",
     "text": [
      "predicted label 1\n",
      "actual label 1 \n"
     ]
    }
   ],
   "source": [
    "print(\"predicted label {}\".format(m.predict(x[3])))\n",
    "print('actual label {} '.format(y[3]))"
   ]
  },
  {
   "cell_type": "code",
   "execution_count": 16,
   "id": "193e9f1a-afaf-4636-9c60-e1233f29b9cb",
   "metadata": {},
   "outputs": [
    {
     "data": {
      "text/plain": [
       "array([0.33333333, 0.66666667])"
      ]
     },
     "execution_count": 16,
     "metadata": {},
     "output_type": "execute_result"
    }
   ],
   "source": [
    "m.predict_prob(x[3])"
   ]
  },
  {
   "cell_type": "code",
   "execution_count": 11,
   "id": "9503ebfd-ae57-4a1a-9909-cd4a030dd919",
   "metadata": {},
   "outputs": [
    {
     "data": {
      "text/plain": [
       "0.84"
      ]
     },
     "execution_count": 11,
     "metadata": {},
     "output_type": "execute_result"
    }
   ],
   "source": [
    "m.score(x,y) #accuracy"
   ]
  },
  {
   "cell_type": "code",
   "execution_count": null,
   "id": "ac8c072e-c537-4086-956e-ecd48ae8ac28",
   "metadata": {},
   "outputs": [],
   "source": []
  }
 ],
 "metadata": {
  "kernelspec": {
   "display_name": "Python [conda env:jupyterlab] *",
   "language": "python",
   "name": "conda-env-jupyterlab-py"
  },
  "language_info": {
   "codemirror_mode": {
    "name": "ipython",
    "version": 3
   },
   "file_extension": ".py",
   "mimetype": "text/x-python",
   "name": "python",
   "nbconvert_exporter": "python",
   "pygments_lexer": "ipython3",
   "version": "3.7.13"
  }
 },
 "nbformat": 4,
 "nbformat_minor": 5
}
