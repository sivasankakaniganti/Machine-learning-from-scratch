{
 "cells": [
  {
   "cell_type": "code",
   "execution_count": 6,
   "id": "5420837c-2e92-429e-bd03-26bc56577344",
   "metadata": {},
   "outputs": [],
   "source": [
    "import numpy as np\n",
    "import math"
   ]
  },
  {
   "cell_type": "code",
   "execution_count": 331,
   "id": "e43ff01e-2109-46ae-95f4-ef7a313f99d6",
   "metadata": {},
   "outputs": [],
   "source": [
    "class NB_gaussian:\n",
    "    def __init__(self):\n",
    "        self.x=None\n",
    "        self.y=None\n",
    "        self.n_classes=None\n",
    "        self.prior_class_prob=None\n",
    "        self.likelihood={}\n",
    "        \n",
    "    def fit(self,x,y,prior_class_prob=None):\n",
    "        \n",
    "        self.x=x\n",
    "        self.y=y\n",
    "        self.n_classes=np.unique(y)\n",
    "        if prior_class_prob==None:\n",
    "            classes,counts=np.unique(y,return_counts=True)\n",
    "            self.prior_class_prob=counts/sum(counts)\n",
    "        else:\n",
    "            self.prior_class_prob=prior_class_probi\n",
    "        \n",
    "        self.cal_likelihood()\n",
    "        \n",
    "\n",
    "    def pdf_value(self,mean,std,x):\n",
    "        \n",
    "        nume = np.exp((-1/2) * ((x-mean)/std)**2)\n",
    "        denom = 1/std * (2 * np.pi)**0.5\n",
    "        return nume/denom\n",
    "    \n",
    "    def cal_likelihood(self):\n",
    "        for i in self.n_classes:\n",
    "            temp=self.y==i\n",
    "            temp=self.x[temp]\n",
    "            dict_like_per_class={}\n",
    "            for j in range(len(temp[0])):\n",
    "                dict_like_per_class[j]=(np.mean(temp[:,j]),np.std(temp[:,j]))\n",
    "            self.likelihood[i]=dict_like_per_class\n",
    "    \n",
    "    def predict(self,xq):\n",
    "        posterier_prob=[]\n",
    "        for i in self.n_classes:\n",
    "            val=1\n",
    "            for k in range(len(xq)):\n",
    "                temp=self.likelihood[i]\n",
    "                val*=(self.pdf_value(xq[k],temp[k][0],temp[k][1]) + 0.0000000000000001)\n",
    "            posterier_prob.append(self.prior_class_prob[i]*val)\n",
    "        return np.argmax(posterier_prob)\n",
    "                "
   ]
  },
  {
   "cell_type": "code",
   "execution_count": 332,
   "id": "dc475069-f994-4a07-823a-b94dd64719b1",
   "metadata": {},
   "outputs": [],
   "source": [
    "from sklearn.datasets import make_classification"
   ]
  },
  {
   "cell_type": "code",
   "execution_count": 333,
   "id": "3b44adae-7991-48b4-92c6-be8cbbf2842e",
   "metadata": {},
   "outputs": [],
   "source": [
    "x,y=make_classification(n_features=5)"
   ]
  },
  {
   "cell_type": "code",
   "execution_count": 339,
   "id": "cc92dabe-e80d-4373-8875-1f02a66f707d",
   "metadata": {},
   "outputs": [],
   "source": [
    "X  = np.array([[-0.8, -0.8],[-1.8, -0.8],[-2.8, -1.8],[ 1.2,  1.2], [ 2.2,  1.2],[ 3.2,  2.2]])\n",
    "y = np.array([1, 1, 1, 2, 2, 2])"
   ]
  },
  {
   "cell_type": "code",
   "execution_count": 340,
   "id": "82033727-f855-4a07-9311-4558bbb05e3f",
   "metadata": {},
   "outputs": [],
   "source": [
    "model=NB_gaussian()"
   ]
  },
  {
   "cell_type": "code",
   "execution_count": 341,
   "id": "f3109773-6e49-4aad-857c-dbdb82b1ce40",
   "metadata": {},
   "outputs": [],
   "source": [
    "model.fit(X,y)"
   ]
  },
  {
   "cell_type": "code",
   "execution_count": 342,
   "id": "3e320b90-09fe-4734-865d-5eb28cc6843e",
   "metadata": {},
   "outputs": [
    {
     "data": {
      "text/plain": [
       "array([[-0.8, -0.8],\n",
       "       [-1.8, -0.8],\n",
       "       [-2.8, -1.8],\n",
       "       [ 1.2,  1.2],\n",
       "       [ 2.2,  1.2],\n",
       "       [ 3.2,  2.2]])"
      ]
     },
     "execution_count": 342,
     "metadata": {},
     "output_type": "execute_result"
    }
   ],
   "source": [
    "X"
   ]
  },
  {
   "cell_type": "code",
   "execution_count": 337,
   "id": "d6b46e11-e88c-4fff-9b0f-7bce9d009fa7",
   "metadata": {
    "tags": []
   },
   "outputs": [
    {
     "data": {
      "text/plain": [
       "100"
      ]
     },
     "execution_count": 337,
     "metadata": {},
     "output_type": "execute_result"
    }
   ],
   "source": [
    "len(x)"
   ]
  },
  {
   "cell_type": "code",
   "execution_count": 338,
   "id": "0deffb2d-ea71-492e-8a6e-8c9873af7d3f",
   "metadata": {},
   "outputs": [
    {
     "name": "stdout",
     "output_type": "stream",
     "text": [
      "accuracy : 0.48\n"
     ]
    }
   ],
   "source": [
    "accuracy=0\n",
    "for i in range(len(x)):\n",
    "    if y[i]==model.predict(x[i]):\n",
    "        accuracy+=1\n",
    "print('accuracy : {}'.format(accuracy/len(y)))"
   ]
  }
 ],
 "metadata": {
  "kernelspec": {
   "display_name": "Python [conda env:jupyterlab] *",
   "language": "python",
   "name": "conda-env-jupyterlab-py"
  },
  "language_info": {
   "codemirror_mode": {
    "name": "ipython",
    "version": 3
   },
   "file_extension": ".py",
   "mimetype": "text/x-python",
   "name": "python",
   "nbconvert_exporter": "python",
   "pygments_lexer": "ipython3",
   "version": "3.7.13"
  }
 },
 "nbformat": 4,
 "nbformat_minor": 5
}
