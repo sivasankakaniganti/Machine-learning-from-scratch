{
 "cells": [
  {
   "cell_type": "code",
   "execution_count": 350,
   "id": "5420837c-2e92-429e-bd03-26bc56577344",
   "metadata": {},
   "outputs": [],
   "source": [
    "import numpy as np"
   ]
  },
  {
   "cell_type": "code",
   "execution_count": 533,
   "id": "e43ff01e-2109-46ae-95f4-ef7a313f99d6",
   "metadata": {},
   "outputs": [],
   "source": [
    "class NB_gaussian:\n",
    "    def __init__(self):\n",
    "        self.x=None                               # x is data \n",
    "        self.y=None                               # y label \n",
    "        self.n_classes=None                       # nuo.of classes\n",
    "        self.prior_class_prob=None                # prior class prob\n",
    "        self.likelihood={}                        # likelihood\n",
    "        \n",
    "    def fit(self,x,y,prior_class_prob=None):\n",
    "        \n",
    "        self.x=x                                  # assigning x\n",
    "        self.y=y\n",
    "        self.n_classes=np.unique(y)               # n_Classes\n",
    "        if prior_class_prob==None:                # class prior\n",
    "            classes,counts=np.unique(y,return_counts=True) \n",
    "            self.prior_class_prob=counts/sum(counts) #assigning class prior\n",
    "        else:\n",
    "            self.prior_class_prob=prior_class_probi \n",
    "        \n",
    "        self.cal_likelihood()  #calculating likelihood\n",
    "        \n",
    "\n",
    "    def pdf_value(self,mean,std,x):                   # pdf of gaussian distribution  \n",
    "         \n",
    "        nume = np.exp((-1/2) * ((x-mean)/std)**2)\n",
    "        denom = 1/(2 * np.pi * std**2)**0.5\n",
    "        return nume/denom\n",
    "    \n",
    "    def cal_likelihood(self):                     \n",
    "        for i in self.n_classes:                          # for each class\n",
    "            temp=self.y==i\n",
    "            temp=self.x[temp]                             # correcponding x's\n",
    "            dict_like_per_class={}                        # each feature mean and std\n",
    "            for j in range(len(temp[0])):\n",
    "                dict_like_per_class[j]=(np.mean(temp[:,j]),np.std(temp[:,j])) # for each feature mean and std for that class\n",
    "            self.likelihood[i]=dict_like_per_class        # for each class and each feature mean and std      \n",
    "    \n",
    "    def predict(self,xq):                                   \n",
    "        posterier_prob=[]                                 #posterior probability\n",
    "        for i in range(len(self.n_classes)):              #for each class\n",
    "            val=1\n",
    "            for k in range(len(xq)):                      #for each feature\n",
    "                temp=self.likelihood[i]\n",
    "                val*=(self.pdf_value(temp[k][0],temp[k][1],xq[k]) + 0.0000000000000001)  # small constant for avoiding multiliplication by zero\n",
    "            posterier_prob.append(self.prior_class_prob[i]*val)          #final prior*likelihood\n",
    "        return np.argmax(posterier_prob)                  #max \n",
    "                "
   ]
  },
  {
   "cell_type": "code",
   "execution_count": 549,
   "id": "dc475069-f994-4a07-823a-b94dd64719b1",
   "metadata": {},
   "outputs": [],
   "source": [
    "from sklearn.datasets import make_classification"
   ]
  },
  {
   "cell_type": "code",
   "execution_count": 550,
   "id": "3b44adae-7991-48b4-92c6-be8cbbf2842e",
   "metadata": {},
   "outputs": [],
   "source": [
    "x,y=make_classification(n_features=5)"
   ]
  },
  {
   "cell_type": "code",
   "execution_count": 551,
   "id": "270dc70d-6d29-4c2e-96d2-d4821ad224ff",
   "metadata": {},
   "outputs": [],
   "source": [
    "model=NB_gaussian()\n",
    "model.fit(x,y)"
   ]
  },
  {
   "cell_type": "code",
   "execution_count": 552,
   "id": "0deffb2d-ea71-492e-8a6e-8c9873af7d3f",
   "metadata": {},
   "outputs": [
    {
     "name": "stdout",
     "output_type": "stream",
     "text": [
      "accuracy : 0.8\n"
     ]
    }
   ],
   "source": [
    "accuracy=0\n",
    "for i in range(len(x)):\n",
    "    if y[i]==model.predict(x[i]):\n",
    "        accuracy+=1\n",
    "print('accuracy : {}'.format(accuracy/len(y)))"
   ]
  },
  {
   "cell_type": "code",
   "execution_count": null,
   "id": "15c8b6bd-2df7-41cd-9900-36a62959a9df",
   "metadata": {},
   "outputs": [],
   "source": []
  }
 ],
 "metadata": {
  "kernelspec": {
   "display_name": "Python [conda env:jupyterlab] *",
   "language": "python",
   "name": "conda-env-jupyterlab-py"
  },
  "language_info": {
   "codemirror_mode": {
    "name": "ipython",
    "version": 3
   },
   "file_extension": ".py",
   "mimetype": "text/x-python",
   "name": "python",
   "nbconvert_exporter": "python",
   "pygments_lexer": "ipython3",
   "version": "3.7.13"
  }
 },
 "nbformat": 4,
 "nbformat_minor": 5
}
