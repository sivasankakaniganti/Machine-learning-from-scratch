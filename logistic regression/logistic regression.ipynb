{
 "cells": [
  {
   "cell_type": "code",
   "execution_count": 496,
   "id": "1d6d3e9a-5575-4c05-9c62-3353d24e86bd",
   "metadata": {},
   "outputs": [],
   "source": [
    "import numpy as np"
   ]
  },
  {
   "cell_type": "code",
   "execution_count": 497,
   "id": "6189df07-f21b-4b7a-836b-5dcefe0f3d3a",
   "metadata": {},
   "outputs": [],
   "source": [
    "class logistic_regression:\n",
    "    def __init__(self):\n",
    "        self.x=None                                          \n",
    "        self.y=None\n",
    "        self.c=None                                        #regulirization rate                                   \n",
    "        self.epochs=None                                   #epochs\n",
    "        self.lr_rate=None                                  #learning rate\n",
    "        self.w=None                                        #weights\n",
    "        self.b=None                                        #bias\n",
    "        self.loss_per_epoch=None                           #each epoch loss\n",
    "        \n",
    "        \n",
    "\n",
    "    def fit(self,x,y,lr_rate=0.01,c=0.01,epochs=3):\n",
    "        \"\"\"\n",
    "        X: data matrix with (rows,columns) or (points,features)\n",
    "        \n",
    "        y: class numbers in intergeer example [0,1,0,1,1,0,1,1]\n",
    "        \n",
    "        lr_rate: learning rate\n",
    "        \n",
    "        C: regulization constant\n",
    "        \n",
    "        epochs: number of epochs\n",
    "        \n",
    "        \"\"\"\n",
    "        self.x=x\n",
    "        self.y=y\n",
    "        self.lr_rate=lr_rate\n",
    "        self.c=c\n",
    "        self.w=np.random.normal(0,0.1,len(x[0]))              #initilizing weights\n",
    "        self.b=0                                            #initilizing bias\n",
    "        self.epochs=epochs \n",
    "        self.SGD()                                          #calling SGD\n",
    "        \n",
    "    def sigmoid(self,z):\n",
    "        return 1/(1+np.exp(-z))                              #sigmoid(x)=1/(1+exp(-x))\n",
    "        \n",
    "    def log_loss(self,y_true,y_pred):\n",
    "        \n",
    "        \"\"\"\n",
    "        actual : true values (must be a 1D vector) \n",
    "        \n",
    "        predicted : predicted values (must be a 1D vector)\n",
    "        \n",
    "        \"\"\"\n",
    "        loss=-1*np.mean(y_true*np.log2(y_pred)+(1-y_true)*np.log2(1-y_pred))   # binary_logloss = -ylog(px)-(1-y)log(1-px)\n",
    "                                                                               # here y={0,1} px=probability of given point belongs to 1\n",
    "        return loss\n",
    "    \n",
    "    \n",
    "    def weights_update(self,actual,predicted,x):\n",
    "        \"\"\"\n",
    "        actual : true values (must be a 1D vector) \n",
    "        \n",
    "        predicted : predicted values (must be a 1D vector)\n",
    "        \n",
    "        loss = -ylog(p(y=1|x)) - (1-y)log(1-p(y=1|x))\n",
    "        \n",
    "        \n",
    "        (predicted-actual)             ----> 1D vector \n",
    "        \n",
    "        np.matric(predicted-actual)  ----> 2D matrix  example shape (1,number_of_points)\n",
    "        \n",
    "        np.matrix(x)                      ----> 2D matrix example shape (number_of_points,number_of_features)\n",
    "        \n",
    "        \n",
    "        np.matrix(actual-predicted) *  np.matrix(x) -------> (1,number_of_points) * (number_of_points,number_of_features) ----> (1,number_of_features)\n",
    "    \n",
    "        1/n for average\n",
    "        \n",
    "        \n",
    "        flatten ---> to convert result into 1D vector\n",
    "        \n",
    "        for derivation please visit \n",
    "        \n",
    "        \"\"\"\n",
    "        return np.array((1/len(actual))*(np.matrix(predicted-actual)*np.matrix(x))).flatten() + self.c * 2 * self.w\n",
    "    \n",
    "    \n",
    "    \n",
    "    def bias_update(self,actual,predicted):\n",
    "        \n",
    "        \"\"\"\n",
    "        actual : true values (must be a 1D vector) \n",
    "        \n",
    "        predicted : predicted values (must be a 1D vector)\n",
    "        \n",
    "        \n",
    "        \"\"\"\n",
    "        \n",
    "        return np.mean(actual-predicted)\n",
    "    \n",
    "    \n",
    "    def predict(self,x):\n",
    "        \"\"\"\n",
    "         x ; data matrix with (rows,columns) or (points,features)\n",
    "         \n",
    "         np.matrix(x)      -----> matrix with (points,features)\n",
    "         \n",
    "         np.matrix(self.w)   ------> matrix with (1,features)\n",
    "         \n",
    "         np.matrix(x)*np.matrix(self.w).T+self.b  ----->  (points,features) * (features,1) -----> (points,1)\n",
    "         \n",
    "         add bias \n",
    "         \n",
    "         each point get a output  \n",
    "         \n",
    "         flattern ------> change output to 1D vector (1,points)\n",
    "        \"\"\"\n",
    "        \n",
    "        return self.sigmoid(np.array(np.matrix(x)*np.matrix(self.w).T+self.b).flatten())\n",
    "    \n",
    "    \n",
    "    def SGD(self):\n",
    "        loss_per_epoch=[]                                                #loss for each epoch\n",
    "        for i in range(self.epochs):                  \n",
    "            predicted=self.predict(self.x)                               #model predictions\n",
    "            loss_per_epoch.append(self.log_loss(self.y,predicted))       #loss for predictions\n",
    "            grad_w=self.weights_update(self.y,predicted,x)               #grad_w for w's\n",
    "            grad_b=self.bias_update(self.y,predicted)                    #grad_b for b\n",
    "            self.w=self.w-self.lr_rate*grad_w                            #w_new = w_old- learn_rate* grad_w\n",
    "            self.b=self.b-self.lr_rate*grad_b \n",
    "        self.loss_per_epoch=loss_per_epoch "
   ]
  },
  {
   "cell_type": "code",
   "execution_count": 498,
   "id": "982a6d0b-81be-4753-8c91-3f281824cb3a",
   "metadata": {},
   "outputs": [],
   "source": [
    "from sklearn.datasets import make_classification\n",
    "from sklearn.metrics import accuracy_score,log_loss"
   ]
  },
  {
   "cell_type": "code",
   "execution_count": 499,
   "id": "63385eac-0507-489f-ac91-cf7e70b23bfa",
   "metadata": {},
   "outputs": [],
   "source": [
    "x,y=make_classification()"
   ]
  },
  {
   "cell_type": "code",
   "execution_count": 500,
   "id": "ad2e9efb-baee-45a6-a03d-6545a6bf35f9",
   "metadata": {},
   "outputs": [],
   "source": [
    "lr=logistic_regression()"
   ]
  },
  {
   "cell_type": "code",
   "execution_count": 501,
   "id": "182405d5-dd1d-4e2a-bad9-29d4700e504a",
   "metadata": {},
   "outputs": [],
   "source": [
    "lr.fit(x,y,epochs=300,lr_rate=0.01)"
   ]
  },
  {
   "cell_type": "code",
   "execution_count": 502,
   "id": "325b4fee-20fd-4506-aec1-81e7274cb0ce",
   "metadata": {},
   "outputs": [
    {
     "data": {
      "text/plain": [
       "((100, 20), (100,))"
      ]
     },
     "execution_count": 502,
     "metadata": {},
     "output_type": "execute_result"
    }
   ],
   "source": [
    "x.shape,y.shape"
   ]
  },
  {
   "cell_type": "code",
   "execution_count": 503,
   "id": "ec857aa6-8594-4b41-aa6c-583f2533ad4e",
   "metadata": {},
   "outputs": [],
   "source": [
    "pred=lr.predict(x).round(0)"
   ]
  },
  {
   "cell_type": "code",
   "execution_count": 504,
   "id": "7a2099c9-0e9e-4b30-8b5d-d59201b94c18",
   "metadata": {
    "tags": []
   },
   "outputs": [
    {
     "data": {
      "text/plain": [
       "0.89"
      ]
     },
     "execution_count": 504,
     "metadata": {},
     "output_type": "execute_result"
    }
   ],
   "source": [
    "accuracy_score(y,pred)"
   ]
  }
 ],
 "metadata": {
  "kernelspec": {
   "display_name": "Python [conda env:jupyterlab] *",
   "language": "python",
   "name": "conda-env-jupyterlab-py"
  },
  "language_info": {
   "codemirror_mode": {
    "name": "ipython",
    "version": 3
   },
   "file_extension": ".py",
   "mimetype": "text/x-python",
   "name": "python",
   "nbconvert_exporter": "python",
   "pygments_lexer": "ipython3",
   "version": "3.7.13"
  }
 },
 "nbformat": 4,
 "nbformat_minor": 5
}
