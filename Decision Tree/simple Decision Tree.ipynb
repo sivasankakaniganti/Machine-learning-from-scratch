{
 "cells": [
  {
   "cell_type": "code",
   "execution_count": 701,
   "id": "60c1eded-a374-48b1-8099-323be5e136d0",
   "metadata": {},
   "outputs": [],
   "source": [
    "import numpy as np"
   ]
  },
  {
   "cell_type": "code",
   "execution_count": 752,
   "id": "f55601e8-a2f6-4015-bbe0-3ac7cbde8474",
   "metadata": {},
   "outputs": [],
   "source": [
    "class Node:\n",
    "    def __init__(self,x,y,depth,depth_of_node,min_points,n_class=2):\n",
    "        self.best_feature=None                                      # best information gain feature index \n",
    "        self.threshold=None                                         # threshold\n",
    "        self.left_link=None                                         # left node\n",
    "        self.right_link=None                                        # right node\n",
    "        self.n_class={i:0 for i in n_class}                         # class : points\n",
    "        self.x=x                                                    # X\n",
    "        self.y=y                                                    # target\n",
    "        self.depth=depth                                            # min_depth \n",
    "        self.depth_of_node=depth_of_node                            # depth of this node\n",
    "        self.min_points=min_points                                  # min points required to start spliting\n",
    "        if len(x)>self.min_points and self.depth > self.depth_of_node:\n",
    "            self.devision()\n",
    "\n",
    "\n",
    "    def weighted_gini_impurity(self,left_prob,right_prob,left_points,right_points,total_points):\n",
    "        \"\"\"\n",
    "        gini_impurity = 1 - (p(y=1|x)**2 + p(y=0|x)**2)\n",
    "        \n",
    "        \"\"\"\n",
    "        gini_impurity_left = 1 - sum(left_prob**2)               #left node gini impurity\n",
    "        gini_impurity_right = 1 - sum(right_prob**2)             #right node gini impurity\n",
    "\n",
    "        gini_impurity = (left_points/total_points)*gini_impurity_left + (right_points/total_points)*gini_impurity_right #weighted gini impurity\n",
    "        \n",
    "        return  gini_impurity\n",
    "\n",
    "    def devision(self):                                            #spliting node\n",
    "        \n",
    "        gini_impurity = np.inf\n",
    "        for i in range(len(self.x[0])):                             # for each features of\n",
    "            temp1=self.y[np.argsort(self.x[:,i])]                   # sort y according to ascending order of x[i] feature \n",
    "            temp2=np.sort(self.x[:,i])                              # sort x[i]\n",
    "            for j in range(1,len(temp2)):\n",
    "                temp3=temp1[:j]                                     # if we divide using a threshold , corresponding y labels left side                                 \n",
    "                temp4=temp1[j:]                                     # right side\n",
    "                left_index,left_counts=np.unique(temp3,return_counts=True) # count of each class when divied using corresponding threshold\n",
    "                \n",
    "                \n",
    "                \n",
    "                left_probability=left_counts/sum(left_counts)       # probability of each class in left tree\n",
    "                \n",
    "                right_index,right_counts=np.unique(temp4,return_counts=True) #count of each class when divied using corresponding threshold\n",
    "\n",
    "                right_probability=right_counts/(sum(right_counts))   # probability of each class in right tree\n",
    "                \n",
    "                temp5=self.weighted_gini_impurity(left_probability,right_probability,len(temp3),len(temp4),len(temp1))  # calculate weighted gini_impurity\n",
    "        \n",
    "                if gini_impurity > temp5:                           # if gini impurity is less than other than change\n",
    "                    \n",
    "                    gini_impurity =temp5\n",
    "                    self.threshold=temp2[j]                         \n",
    "                    self.best_feature=i\n",
    "                         \n",
    "        temp1=self.x[:,self.best_feature]                       #best feature\n",
    "        temp2=temp1 < self.threshold                            #best threshold left node points\n",
    "\n",
    "        self.left_link=Node(self.x[temp2],self.y[temp2],depth=self.depth,depth_of_node=self.depth_of_node+1,min_points=self.min_points,n_class=self.n_class) #creating left node\n",
    "\n",
    "        temp2=temp1 >= self.threshold                           #best threshold right node points\n",
    "\n",
    "        self.right_link=Node(self.x[temp2],self.y[temp2],depth=self.depth,depth_of_node=self.depth_of_node+1,min_points=self.min_points,n_class=self.n_class) #creating right node\n",
    "        \n",
    "        del self.x,self.y\n",
    "\n",
    "    def predict(self,xq):                                        # at a time one query only \n",
    "        \"\"\"\n",
    "        xq : one query point at a time\n",
    "        \"\"\"\n",
    "        if self.left_link==None  and  self.right_link==None:     # checking if there no right or left link \n",
    "            \n",
    "            index,count=np.unique(self.y,return_counts=True)     #counting and giving class label\n",
    "            #print(index,count)\n",
    "            return index[np.argmax(count)]\n",
    "        else:                                                    #if there is link then gving the query to next node\n",
    "            if xq[self.best_feature] < self.threshold : \n",
    "                return self.left_link.predict(xq)\n",
    "            else:\n",
    "                return self.right_link.predict(xq)\n",
    "            \n",
    "            "
   ]
  },
  {
   "cell_type": "code",
   "execution_count": 775,
   "id": "2c60799a-b534-4d2e-ab83-78559d7239d7",
   "metadata": {},
   "outputs": [],
   "source": [
    "class Decision_Tree:\n",
    "    def __init__(self,depth=5,min_points=10):\n",
    "        \"\"\"\n",
    "        depth : max depth of the tree\n",
    "        \n",
    "        min_points : min points to stop tree spliting\n",
    "        \"\"\"\n",
    "        self.depth=depth                                    # depth of the tree\n",
    "        self.min_points=min_points                          # min points\n",
    "        self.x=None                                         # x_data\n",
    "        self.y=None                                         # target labels\n",
    "        self.node=None\n",
    "        self.no_of_classes=None                             #number of classes\n",
    "    def fit(self,x,y):\n",
    "        self.x=x                        \n",
    "        self.y=y\n",
    "        self.no_of_classes=np.unique(y)\n",
    "        self.node=Node(x,y,depth=self.depth,depth_of_node=0,min_points=self.min_points,n_class=self.no_of_classes) # creating node\n",
    "    def predict(self,xq):\n",
    "        return self.node.predict(xq)                        # sending query to node \n",
    "    "
   ]
  },
  {
   "cell_type": "code",
   "execution_count": 776,
   "id": "885e401f-bb1f-41de-b31d-877a8d892cfc",
   "metadata": {},
   "outputs": [],
   "source": [
    "from sklearn.datasets import make_classification\n",
    "x,y=make_classification()"
   ]
  },
  {
   "cell_type": "code",
   "execution_count": 777,
   "id": "81c7b2f1-b2de-489a-bb31-c006de0aa91f",
   "metadata": {},
   "outputs": [],
   "source": [
    "m=Decision_Tree(depth=1,min_points=20)"
   ]
  },
  {
   "cell_type": "code",
   "execution_count": 778,
   "id": "bc27d8b7-e22d-47d0-a8b8-14180769706a",
   "metadata": {
    "tags": []
   },
   "outputs": [],
   "source": [
    "m.fit(x,y)"
   ]
  },
  {
   "cell_type": "code",
   "execution_count": 781,
   "id": "eaf362c2-182a-4956-897c-4bc907613ec4",
   "metadata": {},
   "outputs": [
    {
     "data": {
      "text/plain": [
       "1"
      ]
     },
     "execution_count": 781,
     "metadata": {},
     "output_type": "execute_result"
    }
   ],
   "source": [
    "m.predict(x[3])"
   ]
  },
  {
   "cell_type": "code",
   "execution_count": 782,
   "id": "e9aa653a-ae85-46c8-b36a-06378d1930c8",
   "metadata": {},
   "outputs": [
    {
     "data": {
      "text/plain": [
       "1"
      ]
     },
     "execution_count": 782,
     "metadata": {},
     "output_type": "execute_result"
    }
   ],
   "source": [
    "y[3]"
   ]
  },
  {
   "cell_type": "code",
   "execution_count": 783,
   "id": "e9869ee3-7212-4f9f-952d-15c1441bd8ea",
   "metadata": {
    "tags": []
   },
   "outputs": [
    {
     "name": "stdout",
     "output_type": "stream",
     "text": [
      "accuracy : 0.91\n"
     ]
    }
   ],
   "source": [
    "accuracy=0\n",
    "for i in range(len(x)):\n",
    "    if y[i]==m.predict(x[i]):\n",
    "        accuracy+=1\n",
    "print('accuracy :',accuracy/len(y))"
   ]
  }
 ],
 "metadata": {
  "kernelspec": {
   "display_name": "Python [conda env:jupyterlab] *",
   "language": "python",
   "name": "conda-env-jupyterlab-py"
  },
  "language_info": {
   "codemirror_mode": {
    "name": "ipython",
    "version": 3
   },
   "file_extension": ".py",
   "mimetype": "text/x-python",
   "name": "python",
   "nbconvert_exporter": "python",
   "pygments_lexer": "ipython3",
   "version": "3.7.13"
  }
 },
 "nbformat": 4,
 "nbformat_minor": 5
}
